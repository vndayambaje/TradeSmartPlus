{
 "cells": [
  {
   "cell_type": "code",
   "execution_count": 40,
   "metadata": {},
   "outputs": [
    {
     "name": "stdout",
     "output_type": "stream",
     "text": [
      "/home/vic3/github/TradeSmartPlus/TradeSmart_Plus\n"
     ]
    }
   ],
   "source": [
    "import os\n",
    "os.chdir(\"/home/vic3/github/TradeSmartPlus/TradeSmart_Plus\")\n",
    "print(os.getcwd())"
   ]
  },
  {
   "cell_type": "code",
   "execution_count": 41,
   "metadata": {},
   "outputs": [],
   "source": [
    "import sys\n",
    "sys.path.append(\"/home/vic3/github/TradeSmartPlus/TradeSmart_Plus/scripts\")"
   ]
  },
  {
   "cell_type": "code",
   "execution_count": 42,
   "metadata": {},
   "outputs": [
    {
     "name": "stdout",
     "output_type": "stream",
     "text": [
      "The autoreload extension is already loaded. To reload it, use:\n",
      "  %reload_ext autoreload\n"
     ]
    }
   ],
   "source": [
    "%load_ext autoreload\n",
    "%autoreload 2"
   ]
  },
  {
   "cell_type": "code",
   "execution_count": 56,
   "metadata": {},
   "outputs": [
    {
     "name": "stdout",
     "output_type": "stream",
     "text": [
      "Requirement already satisfied: pandas in /home/vic3/anaconda3/lib/python3.11/site-packages (from -r requirements.txt (line 1)) (2.2.3)\n",
      "Requirement already satisfied: numpy in /home/vic3/anaconda3/lib/python3.11/site-packages (from -r requirements.txt (line 2)) (1.23.5)\n",
      "Requirement already satisfied: matplotlib in /home/vic3/anaconda3/lib/python3.11/site-packages (from -r requirements.txt (line 3)) (3.8.4)\n",
      "Requirement already satisfied: seaborn in /home/vic3/anaconda3/lib/python3.11/site-packages (from -r requirements.txt (line 4)) (0.13.2)\n",
      "Requirement already satisfied: scikit-learn in /home/vic3/anaconda3/lib/python3.11/site-packages (from -r requirements.txt (line 5)) (1.4.2)\n",
      "Requirement already satisfied: tensorflow==2.12.0 in /home/vic3/anaconda3/lib/python3.11/site-packages (from -r requirements.txt (line 6)) (2.12.0)\n",
      "Requirement already satisfied: xgboost in /home/vic3/anaconda3/lib/python3.11/site-packages (from -r requirements.txt (line 7)) (2.1.1)\n",
      "Requirement already satisfied: ta-lib in /home/vic3/anaconda3/lib/python3.11/site-packages (from -r requirements.txt (line 8)) (0.4.32)\n",
      "Requirement already satisfied: yfinance in /home/vic3/anaconda3/lib/python3.11/site-packages (from -r requirements.txt (line 9)) (0.2.44)\n",
      "Requirement already satisfied: vaderSentiment in /home/vic3/anaconda3/lib/python3.11/site-packages (from -r requirements.txt (line 10)) (3.3.2)\n",
      "Requirement already satisfied: stable-baselines3 in /home/vic3/anaconda3/lib/python3.11/site-packages (from -r requirements.txt (line 11)) (2.3.2)\n",
      "Requirement already satisfied: gym in /home/vic3/anaconda3/lib/python3.11/site-packages (from -r requirements.txt (line 12)) (0.26.2)\n",
      "Requirement already satisfied: alpaca-trade-api in /home/vic3/anaconda3/lib/python3.11/site-packages (from -r requirements.txt (line 13)) (3.2.0)\n",
      "Requirement already satisfied: fpdf in /home/vic3/anaconda3/lib/python3.11/site-packages (from -r requirements.txt (line 14)) (1.7.2)\n",
      "Requirement already satisfied: absl-py>=1.0.0 in /home/vic3/anaconda3/lib/python3.11/site-packages (from tensorflow==2.12.0->-r requirements.txt (line 6)) (2.1.0)\n",
      "Requirement already satisfied: astunparse>=1.6.0 in /home/vic3/anaconda3/lib/python3.11/site-packages (from tensorflow==2.12.0->-r requirements.txt (line 6)) (1.6.3)\n",
      "Requirement already satisfied: flatbuffers>=2.0 in /home/vic3/anaconda3/lib/python3.11/site-packages (from tensorflow==2.12.0->-r requirements.txt (line 6)) (24.3.25)\n",
      "Requirement already satisfied: gast<=0.4.0,>=0.2.1 in /home/vic3/anaconda3/lib/python3.11/site-packages (from tensorflow==2.12.0->-r requirements.txt (line 6)) (0.4.0)\n",
      "Requirement already satisfied: google-pasta>=0.1.1 in /home/vic3/anaconda3/lib/python3.11/site-packages (from tensorflow==2.12.0->-r requirements.txt (line 6)) (0.2.0)\n",
      "Requirement already satisfied: grpcio<2.0,>=1.24.3 in /home/vic3/anaconda3/lib/python3.11/site-packages (from tensorflow==2.12.0->-r requirements.txt (line 6)) (1.66.1)\n",
      "Requirement already satisfied: h5py>=2.9.0 in /home/vic3/anaconda3/lib/python3.11/site-packages (from tensorflow==2.12.0->-r requirements.txt (line 6)) (3.11.0)\n",
      "Requirement already satisfied: jax>=0.3.15 in /home/vic3/anaconda3/lib/python3.11/site-packages (from tensorflow==2.12.0->-r requirements.txt (line 6)) (0.4.30)\n",
      "Requirement already satisfied: keras<2.13,>=2.12.0 in /home/vic3/anaconda3/lib/python3.11/site-packages (from tensorflow==2.12.0->-r requirements.txt (line 6)) (2.12.0)\n",
      "Requirement already satisfied: libclang>=13.0.0 in /home/vic3/anaconda3/lib/python3.11/site-packages (from tensorflow==2.12.0->-r requirements.txt (line 6)) (18.1.1)\n",
      "Requirement already satisfied: opt-einsum>=2.3.2 in /home/vic3/anaconda3/lib/python3.11/site-packages (from tensorflow==2.12.0->-r requirements.txt (line 6)) (3.4.0)\n",
      "Requirement already satisfied: packaging in /home/vic3/anaconda3/lib/python3.11/site-packages (from tensorflow==2.12.0->-r requirements.txt (line 6)) (23.2)\n",
      "Requirement already satisfied: protobuf!=4.21.0,!=4.21.1,!=4.21.2,!=4.21.3,!=4.21.4,!=4.21.5,<5.0.0dev,>=3.20.3 in /home/vic3/anaconda3/lib/python3.11/site-packages (from tensorflow==2.12.0->-r requirements.txt (line 6)) (3.20.3)\n",
      "Requirement already satisfied: setuptools in /home/vic3/anaconda3/lib/python3.11/site-packages (from tensorflow==2.12.0->-r requirements.txt (line 6)) (69.5.1)\n",
      "Requirement already satisfied: six>=1.12.0 in /home/vic3/anaconda3/lib/python3.11/site-packages (from tensorflow==2.12.0->-r requirements.txt (line 6)) (1.16.0)\n",
      "Requirement already satisfied: tensorboard<2.13,>=2.12 in /home/vic3/anaconda3/lib/python3.11/site-packages (from tensorflow==2.12.0->-r requirements.txt (line 6)) (2.12.3)\n",
      "Requirement already satisfied: tensorflow-estimator<2.13,>=2.12.0 in /home/vic3/anaconda3/lib/python3.11/site-packages (from tensorflow==2.12.0->-r requirements.txt (line 6)) (2.12.0)\n",
      "Requirement already satisfied: termcolor>=1.1.0 in /home/vic3/anaconda3/lib/python3.11/site-packages (from tensorflow==2.12.0->-r requirements.txt (line 6)) (2.4.0)\n",
      "Requirement already satisfied: typing-extensions>=3.6.6 in /home/vic3/anaconda3/lib/python3.11/site-packages (from tensorflow==2.12.0->-r requirements.txt (line 6)) (4.11.0)\n",
      "Requirement already satisfied: wrapt<1.15,>=1.11.0 in /home/vic3/anaconda3/lib/python3.11/site-packages (from tensorflow==2.12.0->-r requirements.txt (line 6)) (1.14.1)\n",
      "Requirement already satisfied: tensorflow-io-gcs-filesystem>=0.23.1 in /home/vic3/anaconda3/lib/python3.11/site-packages (from tensorflow==2.12.0->-r requirements.txt (line 6)) (0.37.1)\n",
      "Requirement already satisfied: python-dateutil>=2.8.2 in /home/vic3/anaconda3/lib/python3.11/site-packages (from pandas->-r requirements.txt (line 1)) (2.9.0.post0)\n",
      "Requirement already satisfied: pytz>=2020.1 in /home/vic3/anaconda3/lib/python3.11/site-packages (from pandas->-r requirements.txt (line 1)) (2024.1)\n",
      "Requirement already satisfied: tzdata>=2022.7 in /home/vic3/anaconda3/lib/python3.11/site-packages (from pandas->-r requirements.txt (line 1)) (2023.3)\n",
      "Requirement already satisfied: contourpy>=1.0.1 in /home/vic3/anaconda3/lib/python3.11/site-packages (from matplotlib->-r requirements.txt (line 3)) (1.2.0)\n",
      "Requirement already satisfied: cycler>=0.10 in /home/vic3/anaconda3/lib/python3.11/site-packages (from matplotlib->-r requirements.txt (line 3)) (0.11.0)\n",
      "Requirement already satisfied: fonttools>=4.22.0 in /home/vic3/anaconda3/lib/python3.11/site-packages (from matplotlib->-r requirements.txt (line 3)) (4.51.0)\n",
      "Requirement already satisfied: kiwisolver>=1.3.1 in /home/vic3/anaconda3/lib/python3.11/site-packages (from matplotlib->-r requirements.txt (line 3)) (1.4.4)\n",
      "Requirement already satisfied: pillow>=8 in /home/vic3/anaconda3/lib/python3.11/site-packages (from matplotlib->-r requirements.txt (line 3)) (10.4.0)\n",
      "Requirement already satisfied: pyparsing>=2.3.1 in /home/vic3/anaconda3/lib/python3.11/site-packages (from matplotlib->-r requirements.txt (line 3)) (3.0.9)\n",
      "Requirement already satisfied: scipy>=1.6.0 in /home/vic3/anaconda3/lib/python3.11/site-packages (from scikit-learn->-r requirements.txt (line 5)) (1.13.1)\n",
      "Requirement already satisfied: joblib>=1.2.0 in /home/vic3/anaconda3/lib/python3.11/site-packages (from scikit-learn->-r requirements.txt (line 5)) (1.4.2)\n",
      "Requirement already satisfied: threadpoolctl>=2.0.0 in /home/vic3/anaconda3/lib/python3.11/site-packages (from scikit-learn->-r requirements.txt (line 5)) (3.5.0)\n",
      "Requirement already satisfied: nvidia-nccl-cu12 in /home/vic3/anaconda3/lib/python3.11/site-packages (from xgboost->-r requirements.txt (line 7)) (2.21.5)\n",
      "Requirement already satisfied: requests>=2.31 in /home/vic3/anaconda3/lib/python3.11/site-packages (from yfinance->-r requirements.txt (line 9)) (2.32.2)\n",
      "Requirement already satisfied: multitasking>=0.0.7 in /home/vic3/anaconda3/lib/python3.11/site-packages (from yfinance->-r requirements.txt (line 9)) (0.0.11)\n",
      "Requirement already satisfied: lxml>=4.9.1 in /home/vic3/anaconda3/lib/python3.11/site-packages (from yfinance->-r requirements.txt (line 9)) (5.2.1)\n",
      "Requirement already satisfied: platformdirs>=2.0.0 in /home/vic3/anaconda3/lib/python3.11/site-packages (from yfinance->-r requirements.txt (line 9)) (3.10.0)\n",
      "Requirement already satisfied: frozendict>=2.3.4 in /home/vic3/anaconda3/lib/python3.11/site-packages (from yfinance->-r requirements.txt (line 9)) (2.4.2)\n",
      "Requirement already satisfied: peewee>=3.16.2 in /home/vic3/anaconda3/lib/python3.11/site-packages (from yfinance->-r requirements.txt (line 9)) (3.17.7)\n",
      "Requirement already satisfied: beautifulsoup4>=4.11.1 in /home/vic3/anaconda3/lib/python3.11/site-packages (from yfinance->-r requirements.txt (line 9)) (4.12.3)\n",
      "Requirement already satisfied: html5lib>=1.1 in /home/vic3/anaconda3/lib/python3.11/site-packages (from yfinance->-r requirements.txt (line 9)) (1.1)\n",
      "Requirement already satisfied: gymnasium<0.30,>=0.28.1 in /home/vic3/anaconda3/lib/python3.11/site-packages (from stable-baselines3->-r requirements.txt (line 11)) (0.29.1)\n",
      "Requirement already satisfied: torch>=1.13 in /home/vic3/anaconda3/lib/python3.11/site-packages (from stable-baselines3->-r requirements.txt (line 11)) (2.5.0)\n",
      "Requirement already satisfied: cloudpickle in /home/vic3/anaconda3/lib/python3.11/site-packages (from stable-baselines3->-r requirements.txt (line 11)) (2.2.1)\n",
      "Requirement already satisfied: gym-notices>=0.0.4 in /home/vic3/anaconda3/lib/python3.11/site-packages (from gym->-r requirements.txt (line 12)) (0.0.8)\n",
      "Requirement already satisfied: urllib3<2,>1.24 in /home/vic3/anaconda3/lib/python3.11/site-packages (from alpaca-trade-api->-r requirements.txt (line 13)) (1.26.20)\n",
      "Requirement already satisfied: websocket-client<2,>=0.56.0 in /home/vic3/anaconda3/lib/python3.11/site-packages (from alpaca-trade-api->-r requirements.txt (line 13)) (1.8.0)\n",
      "Requirement already satisfied: websockets<11,>=9.0 in /home/vic3/anaconda3/lib/python3.11/site-packages (from alpaca-trade-api->-r requirements.txt (line 13)) (10.4)\n",
      "Requirement already satisfied: msgpack==1.0.3 in /home/vic3/anaconda3/lib/python3.11/site-packages (from alpaca-trade-api->-r requirements.txt (line 13)) (1.0.3)\n",
      "Requirement already satisfied: aiohttp<4,>=3.8.3 in /home/vic3/anaconda3/lib/python3.11/site-packages (from alpaca-trade-api->-r requirements.txt (line 13)) (3.9.5)\n",
      "Requirement already satisfied: PyYAML==6.0.1 in /home/vic3/anaconda3/lib/python3.11/site-packages (from alpaca-trade-api->-r requirements.txt (line 13)) (6.0.1)\n",
      "Requirement already satisfied: deprecation==2.1.0 in /home/vic3/anaconda3/lib/python3.11/site-packages (from alpaca-trade-api->-r requirements.txt (line 13)) (2.1.0)\n",
      "Requirement already satisfied: aiosignal>=1.1.2 in /home/vic3/anaconda3/lib/python3.11/site-packages (from aiohttp<4,>=3.8.3->alpaca-trade-api->-r requirements.txt (line 13)) (1.2.0)\n",
      "Requirement already satisfied: attrs>=17.3.0 in /home/vic3/anaconda3/lib/python3.11/site-packages (from aiohttp<4,>=3.8.3->alpaca-trade-api->-r requirements.txt (line 13)) (23.1.0)\n",
      "Requirement already satisfied: frozenlist>=1.1.1 in /home/vic3/anaconda3/lib/python3.11/site-packages (from aiohttp<4,>=3.8.3->alpaca-trade-api->-r requirements.txt (line 13)) (1.4.0)\n",
      "Requirement already satisfied: multidict<7.0,>=4.5 in /home/vic3/anaconda3/lib/python3.11/site-packages (from aiohttp<4,>=3.8.3->alpaca-trade-api->-r requirements.txt (line 13)) (6.0.4)\n",
      "Requirement already satisfied: yarl<2.0,>=1.0 in /home/vic3/anaconda3/lib/python3.11/site-packages (from aiohttp<4,>=3.8.3->alpaca-trade-api->-r requirements.txt (line 13)) (1.9.3)\n",
      "Requirement already satisfied: wheel<1.0,>=0.23.0 in /home/vic3/anaconda3/lib/python3.11/site-packages (from astunparse>=1.6.0->tensorflow==2.12.0->-r requirements.txt (line 6)) (0.43.0)\n",
      "Requirement already satisfied: soupsieve>1.2 in /home/vic3/anaconda3/lib/python3.11/site-packages (from beautifulsoup4>=4.11.1->yfinance->-r requirements.txt (line 9)) (2.5)\n",
      "Requirement already satisfied: farama-notifications>=0.0.1 in /home/vic3/anaconda3/lib/python3.11/site-packages (from gymnasium<0.30,>=0.28.1->stable-baselines3->-r requirements.txt (line 11)) (0.0.4)\n",
      "Requirement already satisfied: webencodings in /home/vic3/anaconda3/lib/python3.11/site-packages (from html5lib>=1.1->yfinance->-r requirements.txt (line 9)) (0.5.1)\n",
      "Requirement already satisfied: jaxlib<=0.4.30,>=0.4.27 in /home/vic3/anaconda3/lib/python3.11/site-packages (from jax>=0.3.15->tensorflow==2.12.0->-r requirements.txt (line 6)) (0.4.30)\n",
      "Requirement already satisfied: ml-dtypes>=0.2.0 in /home/vic3/anaconda3/lib/python3.11/site-packages (from jax>=0.3.15->tensorflow==2.12.0->-r requirements.txt (line 6)) (0.4.1)\n",
      "Requirement already satisfied: charset-normalizer<4,>=2 in /home/vic3/anaconda3/lib/python3.11/site-packages (from requests>=2.31->yfinance->-r requirements.txt (line 9)) (2.0.4)\n",
      "Requirement already satisfied: idna<4,>=2.5 in /home/vic3/anaconda3/lib/python3.11/site-packages (from requests>=2.31->yfinance->-r requirements.txt (line 9)) (3.7)\n",
      "Requirement already satisfied: certifi>=2017.4.17 in /home/vic3/anaconda3/lib/python3.11/site-packages (from requests>=2.31->yfinance->-r requirements.txt (line 9)) (2024.7.4)\n",
      "Requirement already satisfied: google-auth<3,>=1.6.3 in /home/vic3/anaconda3/lib/python3.11/site-packages (from tensorboard<2.13,>=2.12->tensorflow==2.12.0->-r requirements.txt (line 6)) (2.35.0)\n",
      "Requirement already satisfied: google-auth-oauthlib<1.1,>=0.5 in /home/vic3/anaconda3/lib/python3.11/site-packages (from tensorboard<2.13,>=2.12->tensorflow==2.12.0->-r requirements.txt (line 6)) (1.0.0)\n",
      "Requirement already satisfied: markdown>=2.6.8 in /home/vic3/anaconda3/lib/python3.11/site-packages (from tensorboard<2.13,>=2.12->tensorflow==2.12.0->-r requirements.txt (line 6)) (3.4.1)\n",
      "Requirement already satisfied: tensorboard-data-server<0.8.0,>=0.7.0 in /home/vic3/anaconda3/lib/python3.11/site-packages (from tensorboard<2.13,>=2.12->tensorflow==2.12.0->-r requirements.txt (line 6)) (0.7.2)\n",
      "Requirement already satisfied: werkzeug>=1.0.1 in /home/vic3/anaconda3/lib/python3.11/site-packages (from tensorboard<2.13,>=2.12->tensorflow==2.12.0->-r requirements.txt (line 6)) (2.2.3)\n",
      "Requirement already satisfied: filelock in /home/vic3/anaconda3/lib/python3.11/site-packages (from torch>=1.13->stable-baselines3->-r requirements.txt (line 11)) (3.13.1)\n",
      "Requirement already satisfied: networkx in /home/vic3/anaconda3/lib/python3.11/site-packages (from torch>=1.13->stable-baselines3->-r requirements.txt (line 11)) (3.3)\n",
      "Requirement already satisfied: jinja2 in /home/vic3/anaconda3/lib/python3.11/site-packages (from torch>=1.13->stable-baselines3->-r requirements.txt (line 11)) (3.1.4)\n",
      "Requirement already satisfied: fsspec in /home/vic3/anaconda3/lib/python3.11/site-packages (from torch>=1.13->stable-baselines3->-r requirements.txt (line 11)) (2024.9.0)\n",
      "Requirement already satisfied: nvidia-cuda-nvrtc-cu12==12.4.127 in /home/vic3/anaconda3/lib/python3.11/site-packages (from torch>=1.13->stable-baselines3->-r requirements.txt (line 11)) (12.4.127)\n",
      "Requirement already satisfied: nvidia-cuda-runtime-cu12==12.4.127 in /home/vic3/anaconda3/lib/python3.11/site-packages (from torch>=1.13->stable-baselines3->-r requirements.txt (line 11)) (12.4.127)\n",
      "Requirement already satisfied: nvidia-cuda-cupti-cu12==12.4.127 in /home/vic3/anaconda3/lib/python3.11/site-packages (from torch>=1.13->stable-baselines3->-r requirements.txt (line 11)) (12.4.127)\n",
      "Requirement already satisfied: nvidia-cudnn-cu12==9.1.0.70 in /home/vic3/anaconda3/lib/python3.11/site-packages (from torch>=1.13->stable-baselines3->-r requirements.txt (line 11)) (9.1.0.70)\n",
      "Requirement already satisfied: nvidia-cublas-cu12==12.4.5.8 in /home/vic3/anaconda3/lib/python3.11/site-packages (from torch>=1.13->stable-baselines3->-r requirements.txt (line 11)) (12.4.5.8)\n",
      "Requirement already satisfied: nvidia-cufft-cu12==11.2.1.3 in /home/vic3/anaconda3/lib/python3.11/site-packages (from torch>=1.13->stable-baselines3->-r requirements.txt (line 11)) (11.2.1.3)\n",
      "Requirement already satisfied: nvidia-curand-cu12==10.3.5.147 in /home/vic3/anaconda3/lib/python3.11/site-packages (from torch>=1.13->stable-baselines3->-r requirements.txt (line 11)) (10.3.5.147)\n",
      "Requirement already satisfied: nvidia-cusolver-cu12==11.6.1.9 in /home/vic3/anaconda3/lib/python3.11/site-packages (from torch>=1.13->stable-baselines3->-r requirements.txt (line 11)) (11.6.1.9)\n",
      "Requirement already satisfied: nvidia-cusparse-cu12==12.3.1.170 in /home/vic3/anaconda3/lib/python3.11/site-packages (from torch>=1.13->stable-baselines3->-r requirements.txt (line 11)) (12.3.1.170)\n",
      "Requirement already satisfied: nvidia-nvtx-cu12==12.4.127 in /home/vic3/anaconda3/lib/python3.11/site-packages (from torch>=1.13->stable-baselines3->-r requirements.txt (line 11)) (12.4.127)\n",
      "Requirement already satisfied: nvidia-nvjitlink-cu12==12.4.127 in /home/vic3/anaconda3/lib/python3.11/site-packages (from torch>=1.13->stable-baselines3->-r requirements.txt (line 11)) (12.4.127)\n",
      "Requirement already satisfied: triton==3.1.0 in /home/vic3/anaconda3/lib/python3.11/site-packages (from torch>=1.13->stable-baselines3->-r requirements.txt (line 11)) (3.1.0)\n",
      "Requirement already satisfied: sympy==1.13.1 in /home/vic3/anaconda3/lib/python3.11/site-packages (from torch>=1.13->stable-baselines3->-r requirements.txt (line 11)) (1.13.1)\n",
      "Requirement already satisfied: mpmath<1.4,>=1.1.0 in /home/vic3/anaconda3/lib/python3.11/site-packages (from sympy==1.13.1->torch>=1.13->stable-baselines3->-r requirements.txt (line 11)) (1.3.0)\n",
      "Requirement already satisfied: cachetools<6.0,>=2.0.0 in /home/vic3/anaconda3/lib/python3.11/site-packages (from google-auth<3,>=1.6.3->tensorboard<2.13,>=2.12->tensorflow==2.12.0->-r requirements.txt (line 6)) (5.3.3)\n",
      "Requirement already satisfied: pyasn1-modules>=0.2.1 in /home/vic3/anaconda3/lib/python3.11/site-packages (from google-auth<3,>=1.6.3->tensorboard<2.13,>=2.12->tensorflow==2.12.0->-r requirements.txt (line 6)) (0.2.8)\n",
      "Requirement already satisfied: rsa<5,>=3.1.4 in /home/vic3/anaconda3/lib/python3.11/site-packages (from google-auth<3,>=1.6.3->tensorboard<2.13,>=2.12->tensorflow==2.12.0->-r requirements.txt (line 6)) (4.7.2)\n",
      "Requirement already satisfied: requests-oauthlib>=0.7.0 in /home/vic3/anaconda3/lib/python3.11/site-packages (from google-auth-oauthlib<1.1,>=0.5->tensorboard<2.13,>=2.12->tensorflow==2.12.0->-r requirements.txt (line 6)) (2.0.0)\n",
      "Requirement already satisfied: MarkupSafe>=2.1.1 in /home/vic3/anaconda3/lib/python3.11/site-packages (from werkzeug>=1.0.1->tensorboard<2.13,>=2.12->tensorflow==2.12.0->-r requirements.txt (line 6)) (2.1.3)\n",
      "Requirement already satisfied: pyasn1<0.5.0,>=0.4.6 in /home/vic3/anaconda3/lib/python3.11/site-packages (from pyasn1-modules>=0.2.1->google-auth<3,>=1.6.3->tensorboard<2.13,>=2.12->tensorflow==2.12.0->-r requirements.txt (line 6)) (0.4.8)\n",
      "Requirement already satisfied: oauthlib>=3.0.0 in /home/vic3/anaconda3/lib/python3.11/site-packages (from requests-oauthlib>=0.7.0->google-auth-oauthlib<1.1,>=0.5->tensorboard<2.13,>=2.12->tensorflow==2.12.0->-r requirements.txt (line 6)) (3.2.2)\n"
     ]
    }
   ],
   "source": [
    "! pip install -r requirements.txt\n"
   ]
  },
  {
   "cell_type": "code",
   "execution_count": 57,
   "metadata": {},
   "outputs": [],
   "source": [
    "# TradeSmart_Plus.ipynb\n",
    "\n",
    "# ## 1. Import necessary libraries and scripts\n",
    "\n",
    "import os\n",
    "import pandas as pd\n",
    "import numpy as np\n",
    "import tensorflow as tf\n",
    "import matplotlib.pyplot as plt\n",
    "from scripts.fetch_stock_data import fetch_stock_data\n",
    "from scripts.models import train_random_forest, train_xgboost, train_lstm_model\n",
    "from scripts.backtest import backtest_strategy\n",
    "from scripts.generate_report import generate_report\n",
    "from scripts.sentiment_analysis import get_sentiment"
   ]
  },
  {
   "cell_type": "code",
   "execution_count": 58,
   "metadata": {},
   "outputs": [],
   "source": [
    "import yfinance as yf\n",
    "import talib as ta\n",
    "import pandas as pd"
   ]
  },
  {
   "cell_type": "code",
   "execution_count": 59,
   "metadata": {},
   "outputs": [],
   "source": [
    "from sklearn.ensemble import RandomForestClassifier\n",
    "from xgboost import XGBClassifier\n",
    "from sklearn.model_selection import train_test_split\n",
    "from sklearn.preprocessing import StandardScaler\n",
    "from tensorflow.keras.models import Sequential\n",
    "from tensorflow.keras.layers import LSTM, Dense, Dropout\n",
    "from sklearn.metrics import accuracy_score"
   ]
  },
  {
   "cell_type": "code",
   "execution_count": 60,
   "metadata": {},
   "outputs": [],
   "source": [
    "from vaderSentiment.vaderSentiment import SentimentIntensityAnalyzer"
   ]
  },
  {
   "cell_type": "code",
   "execution_count": 61,
   "metadata": {},
   "outputs": [],
   "source": [
    "from fpdf import FPDF"
   ]
  },
  {
   "cell_type": "code",
   "execution_count": 62,
   "metadata": {},
   "outputs": [],
   "source": [
    "import gym\n",
    "from gym import spaces\n",
    "import numpy as np"
   ]
  },
  {
   "cell_type": "code",
   "execution_count": 63,
   "metadata": {},
   "outputs": [],
   "source": [
    "import unittest\n",
    "from scripts.backtest_strategy import backtest_strategy\n",
    "import pandas as pd"
   ]
  },
  {
   "cell_type": "code",
   "execution_count": 51,
   "metadata": {},
   "outputs": [
    {
     "name": "stderr",
     "output_type": "stream",
     "text": [
      "[*********************100%***********************]  1 of 1 completed\n",
      "[*********************100%***********************]  1 of 1 completed\n",
      "[*********************100%***********************]  1 of 1 completed\n",
      "[*********************100%***********************]  1 of 1 completed\n"
     ]
    },
    {
     "name": "stdout",
     "output_type": "stream",
     "text": [
      "                 Open       High        Low      Close  Adj Close     Volume  \\\n",
      "Date                                                                           \n",
      "2018-01-02  42.540001  43.075001  42.314999  43.064999  40.568932  102223600   \n",
      "2018-01-03  43.132500  43.637501  42.990002  43.057499  40.561855  118071600   \n",
      "2018-01-04  43.134998  43.367500  43.020000  43.257500  40.750267   89738400   \n",
      "2018-01-05  43.360001  43.842499  43.262501  43.750000  41.214218   94640000   \n",
      "2018-01-08  43.587502  43.902500  43.482498  43.587502  41.061146   82271200   \n",
      "\n",
      "            SMA_20  RSI  EMA_20  \n",
      "Date                             \n",
      "2018-01-02     NaN  NaN     NaN  \n",
      "2018-01-03     NaN  NaN     NaN  \n",
      "2018-01-04     NaN  NaN     NaN  \n",
      "2018-01-05     NaN  NaN     NaN  \n",
      "2018-01-08     NaN  NaN     NaN  \n"
     ]
    }
   ],
   "source": [
    "# ## 2. Set up the stock symbols and parameters\n",
    "\n",
    "symbols = ['AAPL', 'MSFT', 'GOOGL', 'SPY']\n",
    "start_date = \"2018-01-01\"\n",
    "initial_balance = 10000\n",
    "\n",
    "# ## 3. Fetch stock data and perform feature engineering\n",
    "\n",
    "stock_data = fetch_stock_data(symbols, start_date=start_date)\n",
    "\n",
    "# Display stock data to verify\n",
    "print(stock_data['AAPL'].head())"
   ]
  },
  {
   "cell_type": "code",
   "execution_count": 52,
   "metadata": {},
   "outputs": [
    {
     "name": "stdout",
     "output_type": "stream",
     "text": [
      "Sentiment Analysis Result: 0.0\n"
     ]
    }
   ],
   "source": [
    "# ## 4. Sentiment Analysis (Optional - Using VADER)\n",
    "\n",
    "# Example of analyzing sentiment from a news article\n",
    "news_article = \"The company's stock surged after reporting record earnings.\"\n",
    "sentiment_result = get_sentiment(news_article)\n",
    "print(f\"Sentiment Analysis Result: {sentiment_result}\")\n",
    "\n",
    "# ## 5. Prepare Data for Model Training"
   ]
  },
  {
   "cell_type": "code",
   "execution_count": 53,
   "metadata": {},
   "outputs": [],
   "source": [
    "def prepare_data(ticker_data):\n",
    "    # Calculate technical indicators\n",
    "    ticker_data['SMA_20'] = ticker_data['Close'].rolling(window=20).mean()\n",
    "    ticker_data['RSI'] = ta.RSI(ticker_data['Close'], timeperiod=14)\n",
    "    \n",
    "    # Create a DataFrame for features and drop rows where any of the features are NaN\n",
    "    X = ticker_data[['SMA_20', 'RSI']].dropna()\n",
    "    \n",
    "    # Define target 'y' for binary classification (1 if the next day price is higher, else 0)\n",
    "    y = np.where(ticker_data['Close'].shift(-1) > ticker_data['Close'], 1, 0)\n",
    "    \n",
    "    # Convert y to a pandas Series with the same index as X\n",
    "    y = pd.Series(y, index=ticker_data.index)\n",
    "    \n",
    "    # Align 'y' with the same index as the feature DataFrame 'X'\n",
    "    y = y.loc[X.index]\n",
    "    \n",
    "    # Split data into training, validation, and testing sets\n",
    "    X_train, X_test, y_train, y_test = train_test_split(X, y, test_size=0.2, random_state=42)\n",
    "    X_train, X_val, y_train, y_val = train_test_split(X_train, y_train, test_size=0.25, random_state=42)\n",
    "    \n",
    "    return X_train, X_val, X_test, y_train, y_val, y_test"
   ]
  },
  {
   "cell_type": "code",
   "execution_count": 54,
   "metadata": {},
   "outputs": [],
   "source": [
    "import pandas as pd\n",
    "import numpy as np\n",
    "from sklearn.model_selection import train_test_split\n",
    "from sklearn.preprocessing import StandardScaler\n",
    "from sklearn.ensemble import RandomForestClassifier\n",
    "from xgboost import XGBClassifier\n",
    "from tensorflow.keras.models import Sequential\n",
    "from tensorflow.keras.layers import LSTM, Dense, Dropout\n",
    "from sklearn.metrics import accuracy_score, classification_report\n",
    "import talib as ta\n"
   ]
  },
  {
   "cell_type": "code",
   "execution_count": 67,
   "metadata": {},
   "outputs": [
    {
     "name": "stderr",
     "output_type": "stream",
     "text": [
      "[*********************100%***********************]  1 of 1 completed\n",
      "/home/vic3/anaconda3/lib/python3.11/site-packages/xgboost/core.py:158: UserWarning: [12:03:01] WARNING: /workspace/src/learner.cc:740: \n",
      "Parameters: { \"use_label_encoder\" } are not used.\n",
      "\n",
      "  warnings.warn(smsg, UserWarning)\n",
      "2024-10-17 12:03:15.935817: I tensorflow/core/common_runtime/executor.cc:1197] [/device:CPU:0] (DEBUG INFO) Executor start aborting (this does not indicate an error and you can ignore this message): INVALID_ARGUMENT: You must feed a value for placeholder tensor 'gradients/split_2_grad/concat/split_2/split_dim' with dtype int32\n",
      "\t [[{{node gradients/split_2_grad/concat/split_2/split_dim}}]]\n",
      "2024-10-17 12:03:15.948170: I tensorflow/core/common_runtime/executor.cc:1197] [/device:CPU:0] (DEBUG INFO) Executor start aborting (this does not indicate an error and you can ignore this message): INVALID_ARGUMENT: You must feed a value for placeholder tensor 'gradients/split_grad/concat/split/split_dim' with dtype int32\n",
      "\t [[{{node gradients/split_grad/concat/split/split_dim}}]]\n",
      "2024-10-17 12:03:15.955599: I tensorflow/core/common_runtime/executor.cc:1197] [/device:CPU:0] (DEBUG INFO) Executor start aborting (this does not indicate an error and you can ignore this message): INVALID_ARGUMENT: You must feed a value for placeholder tensor 'gradients/split_1_grad/concat/split_1/split_dim' with dtype int32\n",
      "\t [[{{node gradients/split_1_grad/concat/split_1/split_dim}}]]\n",
      "2024-10-17 12:03:16.728541: I tensorflow/core/common_runtime/executor.cc:1197] [/device:CPU:0] (DEBUG INFO) Executor start aborting (this does not indicate an error and you can ignore this message): INVALID_ARGUMENT: You must feed a value for placeholder tensor 'gradients/split_2_grad/concat/split_2/split_dim' with dtype int32\n",
      "\t [[{{node gradients/split_2_grad/concat/split_2/split_dim}}]]\n",
      "2024-10-17 12:03:16.733621: I tensorflow/core/common_runtime/executor.cc:1197] [/device:CPU:0] (DEBUG INFO) Executor start aborting (this does not indicate an error and you can ignore this message): INVALID_ARGUMENT: You must feed a value for placeholder tensor 'gradients/split_grad/concat/split/split_dim' with dtype int32\n",
      "\t [[{{node gradients/split_grad/concat/split/split_dim}}]]\n",
      "2024-10-17 12:03:16.737496: I tensorflow/core/common_runtime/executor.cc:1197] [/device:CPU:0] (DEBUG INFO) Executor start aborting (this does not indicate an error and you can ignore this message): INVALID_ARGUMENT: You must feed a value for placeholder tensor 'gradients/split_1_grad/concat/split_1/split_dim' with dtype int32\n",
      "\t [[{{node gradients/split_1_grad/concat/split_1/split_dim}}]]\n"
     ]
    },
    {
     "name": "stdout",
     "output_type": "stream",
     "text": [
      "Epoch 1/20\n"
     ]
    },
    {
     "name": "stderr",
     "output_type": "stream",
     "text": [
      "2024-10-17 12:03:17.888411: I tensorflow/core/common_runtime/executor.cc:1197] [/device:CPU:0] (DEBUG INFO) Executor start aborting (this does not indicate an error and you can ignore this message): INVALID_ARGUMENT: You must feed a value for placeholder tensor 'gradients/split_2_grad/concat/split_2/split_dim' with dtype int32\n",
      "\t [[{{node gradients/split_2_grad/concat/split_2/split_dim}}]]\n",
      "2024-10-17 12:03:17.894318: I tensorflow/core/common_runtime/executor.cc:1197] [/device:CPU:0] (DEBUG INFO) Executor start aborting (this does not indicate an error and you can ignore this message): INVALID_ARGUMENT: You must feed a value for placeholder tensor 'gradients/split_grad/concat/split/split_dim' with dtype int32\n",
      "\t [[{{node gradients/split_grad/concat/split/split_dim}}]]\n",
      "2024-10-17 12:03:17.898290: I tensorflow/core/common_runtime/executor.cc:1197] [/device:CPU:0] (DEBUG INFO) Executor start aborting (this does not indicate an error and you can ignore this message): INVALID_ARGUMENT: You must feed a value for placeholder tensor 'gradients/split_1_grad/concat/split_1/split_dim' with dtype int32\n",
      "\t [[{{node gradients/split_1_grad/concat/split_1/split_dim}}]]\n",
      "2024-10-17 12:03:18.502091: I tensorflow/core/common_runtime/executor.cc:1197] [/device:CPU:0] (DEBUG INFO) Executor start aborting (this does not indicate an error and you can ignore this message): INVALID_ARGUMENT: You must feed a value for placeholder tensor 'gradients/split_2_grad/concat/split_2/split_dim' with dtype int32\n",
      "\t [[{{node gradients/split_2_grad/concat/split_2/split_dim}}]]\n",
      "2024-10-17 12:03:18.505587: I tensorflow/core/common_runtime/executor.cc:1197] [/device:CPU:0] (DEBUG INFO) Executor start aborting (this does not indicate an error and you can ignore this message): INVALID_ARGUMENT: You must feed a value for placeholder tensor 'gradients/split_grad/concat/split/split_dim' with dtype int32\n",
      "\t [[{{node gradients/split_grad/concat/split/split_dim}}]]\n",
      "2024-10-17 12:03:18.509090: I tensorflow/core/common_runtime/executor.cc:1197] [/device:CPU:0] (DEBUG INFO) Executor start aborting (this does not indicate an error and you can ignore this message): INVALID_ARGUMENT: You must feed a value for placeholder tensor 'gradients/split_1_grad/concat/split_1/split_dim' with dtype int32\n",
      "\t [[{{node gradients/split_1_grad/concat/split_1/split_dim}}]]\n",
      "2024-10-17 12:03:21.431051: I tensorflow/core/common_runtime/executor.cc:1197] [/device:CPU:0] (DEBUG INFO) Executor start aborting (this does not indicate an error and you can ignore this message): INVALID_ARGUMENT: You must feed a value for placeholder tensor 'gradients/split_2_grad/concat/split_2/split_dim' with dtype int32\n",
      "\t [[{{node gradients/split_2_grad/concat/split_2/split_dim}}]]\n",
      "2024-10-17 12:03:21.437321: I tensorflow/core/common_runtime/executor.cc:1197] [/device:CPU:0] (DEBUG INFO) Executor start aborting (this does not indicate an error and you can ignore this message): INVALID_ARGUMENT: You must feed a value for placeholder tensor 'gradients/split_grad/concat/split/split_dim' with dtype int32\n",
      "\t [[{{node gradients/split_grad/concat/split/split_dim}}]]\n",
      "2024-10-17 12:03:21.445426: I tensorflow/core/common_runtime/executor.cc:1197] [/device:CPU:0] (DEBUG INFO) Executor start aborting (this does not indicate an error and you can ignore this message): INVALID_ARGUMENT: You must feed a value for placeholder tensor 'gradients/split_1_grad/concat/split_1/split_dim' with dtype int32\n",
      "\t [[{{node gradients/split_1_grad/concat/split_1/split_dim}}]]\n",
      "2024-10-17 12:03:21.996541: I tensorflow/core/common_runtime/executor.cc:1197] [/device:CPU:0] (DEBUG INFO) Executor start aborting (this does not indicate an error and you can ignore this message): INVALID_ARGUMENT: You must feed a value for placeholder tensor 'gradients/split_2_grad/concat/split_2/split_dim' with dtype int32\n",
      "\t [[{{node gradients/split_2_grad/concat/split_2/split_dim}}]]\n",
      "2024-10-17 12:03:21.998812: I tensorflow/core/common_runtime/executor.cc:1197] [/device:CPU:0] (DEBUG INFO) Executor start aborting (this does not indicate an error and you can ignore this message): INVALID_ARGUMENT: You must feed a value for placeholder tensor 'gradients/split_grad/concat/split/split_dim' with dtype int32\n",
      "\t [[{{node gradients/split_grad/concat/split/split_dim}}]]\n",
      "2024-10-17 12:03:22.000855: I tensorflow/core/common_runtime/executor.cc:1197] [/device:CPU:0] (DEBUG INFO) Executor start aborting (this does not indicate an error and you can ignore this message): INVALID_ARGUMENT: You must feed a value for placeholder tensor 'gradients/split_1_grad/concat/split_1/split_dim' with dtype int32\n",
      "\t [[{{node gradients/split_1_grad/concat/split_1/split_dim}}]]\n"
     ]
    },
    {
     "name": "stdout",
     "output_type": "stream",
     "text": [
      "30/32 [===========================>..] - ETA: 0s - loss: 0.6948"
     ]
    },
    {
     "name": "stderr",
     "output_type": "stream",
     "text": [
      "2024-10-17 12:03:26.426933: I tensorflow/core/common_runtime/executor.cc:1197] [/device:CPU:0] (DEBUG INFO) Executor start aborting (this does not indicate an error and you can ignore this message): INVALID_ARGUMENT: You must feed a value for placeholder tensor 'gradients/split_2_grad/concat/split_2/split_dim' with dtype int32\n",
      "\t [[{{node gradients/split_2_grad/concat/split_2/split_dim}}]]\n",
      "2024-10-17 12:03:26.432577: I tensorflow/core/common_runtime/executor.cc:1197] [/device:CPU:0] (DEBUG INFO) Executor start aborting (this does not indicate an error and you can ignore this message): INVALID_ARGUMENT: You must feed a value for placeholder tensor 'gradients/split_grad/concat/split/split_dim' with dtype int32\n",
      "\t [[{{node gradients/split_grad/concat/split/split_dim}}]]\n",
      "2024-10-17 12:03:26.435428: I tensorflow/core/common_runtime/executor.cc:1197] [/device:CPU:0] (DEBUG INFO) Executor start aborting (this does not indicate an error and you can ignore this message): INVALID_ARGUMENT: You must feed a value for placeholder tensor 'gradients/split_1_grad/concat/split_1/split_dim' with dtype int32\n",
      "\t [[{{node gradients/split_1_grad/concat/split_1/split_dim}}]]\n",
      "2024-10-17 12:03:26.875987: I tensorflow/core/common_runtime/executor.cc:1197] [/device:CPU:0] (DEBUG INFO) Executor start aborting (this does not indicate an error and you can ignore this message): INVALID_ARGUMENT: You must feed a value for placeholder tensor 'gradients/split_2_grad/concat/split_2/split_dim' with dtype int32\n",
      "\t [[{{node gradients/split_2_grad/concat/split_2/split_dim}}]]\n",
      "2024-10-17 12:03:26.880451: I tensorflow/core/common_runtime/executor.cc:1197] [/device:CPU:0] (DEBUG INFO) Executor start aborting (this does not indicate an error and you can ignore this message): INVALID_ARGUMENT: You must feed a value for placeholder tensor 'gradients/split_grad/concat/split/split_dim' with dtype int32\n",
      "\t [[{{node gradients/split_grad/concat/split/split_dim}}]]\n",
      "2024-10-17 12:03:26.885256: I tensorflow/core/common_runtime/executor.cc:1197] [/device:CPU:0] (DEBUG INFO) Executor start aborting (this does not indicate an error and you can ignore this message): INVALID_ARGUMENT: You must feed a value for placeholder tensor 'gradients/split_1_grad/concat/split_1/split_dim' with dtype int32\n",
      "\t [[{{node gradients/split_1_grad/concat/split_1/split_dim}}]]\n"
     ]
    },
    {
     "name": "stdout",
     "output_type": "stream",
     "text": [
      "32/32 [==============================] - 10s 53ms/step - loss: 0.6949 - val_loss: 0.6908\n",
      "Epoch 2/20\n",
      "32/32 [==============================] - 0s 11ms/step - loss: 0.6961 - val_loss: 0.6851\n",
      "Epoch 3/20\n",
      "32/32 [==============================] - 0s 11ms/step - loss: 0.6946 - val_loss: 0.6881\n",
      "Epoch 4/20\n",
      "32/32 [==============================] - 0s 13ms/step - loss: 0.6920 - val_loss: 0.6853\n",
      "Epoch 5/20\n",
      "32/32 [==============================] - 0s 11ms/step - loss: 0.6930 - val_loss: 0.6874\n",
      "Epoch 6/20\n",
      "32/32 [==============================] - 0s 9ms/step - loss: 0.6942 - val_loss: 0.6880\n",
      "Epoch 7/20\n",
      "32/32 [==============================] - 0s 10ms/step - loss: 0.6932 - val_loss: 0.6873\n",
      "Epoch 8/20\n",
      "32/32 [==============================] - 0s 9ms/step - loss: 0.6923 - val_loss: 0.6871\n",
      "Epoch 9/20\n",
      "32/32 [==============================] - 0s 9ms/step - loss: 0.6920 - val_loss: 0.6885\n",
      "Epoch 10/20\n",
      "32/32 [==============================] - 0s 9ms/step - loss: 0.6933 - val_loss: 0.6853\n",
      "Epoch 11/20\n",
      "32/32 [==============================] - 0s 8ms/step - loss: 0.6943 - val_loss: 0.6869\n",
      "Epoch 12/20\n",
      "32/32 [==============================] - 0s 7ms/step - loss: 0.6926 - val_loss: 0.6865\n",
      "Epoch 13/20\n",
      "32/32 [==============================] - 0s 7ms/step - loss: 0.6934 - val_loss: 0.6883\n",
      "Epoch 14/20\n",
      "32/32 [==============================] - 0s 7ms/step - loss: 0.6935 - val_loss: 0.6875\n",
      "Epoch 15/20\n",
      "32/32 [==============================] - 0s 11ms/step - loss: 0.6914 - val_loss: 0.6869\n",
      "Epoch 16/20\n",
      "32/32 [==============================] - 0s 8ms/step - loss: 0.6961 - val_loss: 0.6866\n",
      "Epoch 17/20\n",
      "32/32 [==============================] - 0s 7ms/step - loss: 0.6923 - val_loss: 0.6876\n",
      "Epoch 18/20\n",
      "32/32 [==============================] - 0s 8ms/step - loss: 0.6923 - val_loss: 0.6856\n",
      "Epoch 19/20\n",
      "32/32 [==============================] - 0s 7ms/step - loss: 0.6941 - val_loss: 0.6866\n",
      "Epoch 20/20\n",
      "32/32 [==============================] - 0s 8ms/step - loss: 0.6917 - val_loss: 0.6855\n"
     ]
    },
    {
     "name": "stderr",
     "output_type": "stream",
     "text": [
      "2024-10-17 12:03:33.155955: I tensorflow/core/common_runtime/executor.cc:1197] [/device:CPU:0] (DEBUG INFO) Executor start aborting (this does not indicate an error and you can ignore this message): INVALID_ARGUMENT: You must feed a value for placeholder tensor 'gradients/split_2_grad/concat/split_2/split_dim' with dtype int32\n",
      "\t [[{{node gradients/split_2_grad/concat/split_2/split_dim}}]]\n",
      "2024-10-17 12:03:33.159382: I tensorflow/core/common_runtime/executor.cc:1197] [/device:CPU:0] (DEBUG INFO) Executor start aborting (this does not indicate an error and you can ignore this message): INVALID_ARGUMENT: You must feed a value for placeholder tensor 'gradients/split_grad/concat/split/split_dim' with dtype int32\n",
      "\t [[{{node gradients/split_grad/concat/split/split_dim}}]]\n",
      "2024-10-17 12:03:33.161045: I tensorflow/core/common_runtime/executor.cc:1197] [/device:CPU:0] (DEBUG INFO) Executor start aborting (this does not indicate an error and you can ignore this message): INVALID_ARGUMENT: You must feed a value for placeholder tensor 'gradients/split_1_grad/concat/split_1/split_dim' with dtype int32\n",
      "\t [[{{node gradients/split_1_grad/concat/split_1/split_dim}}]]\n",
      "2024-10-17 12:03:33.478597: I tensorflow/core/common_runtime/executor.cc:1197] [/device:CPU:0] (DEBUG INFO) Executor start aborting (this does not indicate an error and you can ignore this message): INVALID_ARGUMENT: You must feed a value for placeholder tensor 'gradients/split_2_grad/concat/split_2/split_dim' with dtype int32\n",
      "\t [[{{node gradients/split_2_grad/concat/split_2/split_dim}}]]\n",
      "2024-10-17 12:03:33.481287: I tensorflow/core/common_runtime/executor.cc:1197] [/device:CPU:0] (DEBUG INFO) Executor start aborting (this does not indicate an error and you can ignore this message): INVALID_ARGUMENT: You must feed a value for placeholder tensor 'gradients/split_grad/concat/split/split_dim' with dtype int32\n",
      "\t [[{{node gradients/split_grad/concat/split/split_dim}}]]\n",
      "2024-10-17 12:03:33.484052: I tensorflow/core/common_runtime/executor.cc:1197] [/device:CPU:0] (DEBUG INFO) Executor start aborting (this does not indicate an error and you can ignore this message): INVALID_ARGUMENT: You must feed a value for placeholder tensor 'gradients/split_1_grad/concat/split_1/split_dim' with dtype int32\n",
      "\t [[{{node gradients/split_1_grad/concat/split_1/split_dim}}]]\n"
     ]
    },
    {
     "name": "stdout",
     "output_type": "stream",
     "text": [
      "11/11 [==============================] - 1s 4ms/step\n"
     ]
    },
    {
     "ename": "KeyError",
     "evalue": "0",
     "output_type": "error",
     "traceback": [
      "\u001b[0;31m---------------------------------------------------------------------------\u001b[0m",
      "\u001b[0;31mKeyError\u001b[0m                                  Traceback (most recent call last)",
      "File \u001b[0;32m~/anaconda3/lib/python3.11/site-packages/pandas/core/indexes/base.py:3805\u001b[0m, in \u001b[0;36mIndex.get_loc\u001b[0;34m(self, key)\u001b[0m\n\u001b[1;32m   3804\u001b[0m \u001b[38;5;28;01mtry\u001b[39;00m:\n\u001b[0;32m-> 3805\u001b[0m     \u001b[38;5;28;01mreturn\u001b[39;00m \u001b[38;5;28mself\u001b[39m\u001b[38;5;241m.\u001b[39m_engine\u001b[38;5;241m.\u001b[39mget_loc(casted_key)\n\u001b[1;32m   3806\u001b[0m \u001b[38;5;28;01mexcept\u001b[39;00m \u001b[38;5;167;01mKeyError\u001b[39;00m \u001b[38;5;28;01mas\u001b[39;00m err:\n",
      "File \u001b[0;32mindex.pyx:167\u001b[0m, in \u001b[0;36mpandas._libs.index.IndexEngine.get_loc\u001b[0;34m()\u001b[0m\n",
      "File \u001b[0;32mindex.pyx:196\u001b[0m, in \u001b[0;36mpandas._libs.index.IndexEngine.get_loc\u001b[0;34m()\u001b[0m\n",
      "File \u001b[0;32mpandas/_libs/hashtable_class_helper.pxi:7081\u001b[0m, in \u001b[0;36mpandas._libs.hashtable.PyObjectHashTable.get_item\u001b[0;34m()\u001b[0m\n",
      "File \u001b[0;32mpandas/_libs/hashtable_class_helper.pxi:7089\u001b[0m, in \u001b[0;36mpandas._libs.hashtable.PyObjectHashTable.get_item\u001b[0;34m()\u001b[0m\n",
      "\u001b[0;31mKeyError\u001b[0m: 0",
      "\nThe above exception was the direct cause of the following exception:\n",
      "\u001b[0;31mKeyError\u001b[0m                                  Traceback (most recent call last)",
      "Cell \u001b[0;32mIn[67], line 27\u001b[0m\n\u001b[1;32m     24\u001b[0m lstm_signals \u001b[38;5;241m=\u001b[39m generate_signals(ticker_data)\n\u001b[1;32m     26\u001b[0m \u001b[38;5;66;03m# Backtest\u001b[39;00m\n\u001b[0;32m---> 27\u001b[0m rf_backtest \u001b[38;5;241m=\u001b[39m backtest_strategy(ticker_data, rf_signals)\n\u001b[1;32m     28\u001b[0m xgb_backtest \u001b[38;5;241m=\u001b[39m backtest_strategy(ticker_data, xgb_signals)\n\u001b[1;32m     29\u001b[0m lstm_backtest \u001b[38;5;241m=\u001b[39m backtest_strategy(ticker_data, lstm_signals)\n",
      "File \u001b[0;32m~/github/TradeSmartPlus/TradeSmart_Plus/scripts/backtest_strategy.py:9\u001b[0m, in \u001b[0;36mbacktest_strategy\u001b[0;34m(data, signals, initial_balance)\u001b[0m\n",
      "File \u001b[0;32m~/anaconda3/lib/python3.11/site-packages/pandas/core/frame.py:4102\u001b[0m, in \u001b[0;36mDataFrame.__getitem__\u001b[0;34m(self, key)\u001b[0m\n\u001b[1;32m   4100\u001b[0m \u001b[38;5;28;01mif\u001b[39;00m \u001b[38;5;28mself\u001b[39m\u001b[38;5;241m.\u001b[39mcolumns\u001b[38;5;241m.\u001b[39mnlevels \u001b[38;5;241m>\u001b[39m \u001b[38;5;241m1\u001b[39m:\n\u001b[1;32m   4101\u001b[0m     \u001b[38;5;28;01mreturn\u001b[39;00m \u001b[38;5;28mself\u001b[39m\u001b[38;5;241m.\u001b[39m_getitem_multilevel(key)\n\u001b[0;32m-> 4102\u001b[0m indexer \u001b[38;5;241m=\u001b[39m \u001b[38;5;28mself\u001b[39m\u001b[38;5;241m.\u001b[39mcolumns\u001b[38;5;241m.\u001b[39mget_loc(key)\n\u001b[1;32m   4103\u001b[0m \u001b[38;5;28;01mif\u001b[39;00m is_integer(indexer):\n\u001b[1;32m   4104\u001b[0m     indexer \u001b[38;5;241m=\u001b[39m [indexer]\n",
      "File \u001b[0;32m~/anaconda3/lib/python3.11/site-packages/pandas/core/indexes/base.py:3812\u001b[0m, in \u001b[0;36mIndex.get_loc\u001b[0;34m(self, key)\u001b[0m\n\u001b[1;32m   3807\u001b[0m     \u001b[38;5;28;01mif\u001b[39;00m \u001b[38;5;28misinstance\u001b[39m(casted_key, \u001b[38;5;28mslice\u001b[39m) \u001b[38;5;129;01mor\u001b[39;00m (\n\u001b[1;32m   3808\u001b[0m         \u001b[38;5;28misinstance\u001b[39m(casted_key, abc\u001b[38;5;241m.\u001b[39mIterable)\n\u001b[1;32m   3809\u001b[0m         \u001b[38;5;129;01mand\u001b[39;00m \u001b[38;5;28many\u001b[39m(\u001b[38;5;28misinstance\u001b[39m(x, \u001b[38;5;28mslice\u001b[39m) \u001b[38;5;28;01mfor\u001b[39;00m x \u001b[38;5;129;01min\u001b[39;00m casted_key)\n\u001b[1;32m   3810\u001b[0m     ):\n\u001b[1;32m   3811\u001b[0m         \u001b[38;5;28;01mraise\u001b[39;00m InvalidIndexError(key)\n\u001b[0;32m-> 3812\u001b[0m     \u001b[38;5;28;01mraise\u001b[39;00m \u001b[38;5;167;01mKeyError\u001b[39;00m(key) \u001b[38;5;28;01mfrom\u001b[39;00m \u001b[38;5;21;01merr\u001b[39;00m\n\u001b[1;32m   3813\u001b[0m \u001b[38;5;28;01mexcept\u001b[39;00m \u001b[38;5;167;01mTypeError\u001b[39;00m:\n\u001b[1;32m   3814\u001b[0m     \u001b[38;5;66;03m# If we have a listlike key, _check_indexing_error will raise\u001b[39;00m\n\u001b[1;32m   3815\u001b[0m     \u001b[38;5;66;03m#  InvalidIndexError. Otherwise we fall through and re-raise\u001b[39;00m\n\u001b[1;32m   3816\u001b[0m     \u001b[38;5;66;03m#  the TypeError.\u001b[39;00m\n\u001b[1;32m   3817\u001b[0m     \u001b[38;5;28mself\u001b[39m\u001b[38;5;241m.\u001b[39m_check_indexing_error(key)\n",
      "\u001b[0;31mKeyError\u001b[0m: 0"
     ]
    }
   ],
   "source": [
    "# 1. Import Libraries and Custom Functions\n",
    "from backtest import generate_signals\n",
    "\n",
    "symbols = ['AAPL']\n",
    "stock_data = fetch_stock_data(symbols)\n",
    "\n",
    "all_backtests = {}\n",
    "\n",
    "# 2. Loop Through Tickers\n",
    "for ticker in symbols:\n",
    "    ticker_data = stock_data[ticker]\n",
    "    \n",
    "    # Prepare data\n",
    "    X_train, X_val, X_test, y_train, y_val, y_test = prepare_data(ticker_data)\n",
    "    \n",
    "    # Train models\n",
    "    rf_model, rf_accuracy = train_random_forest(X_train, y_train, X_val, y_val)\n",
    "    xgb_model, xgb_accuracy = train_xgboost(X_train, y_train, X_val, y_val)\n",
    "    lstm_model, lstm_accuracy = train_lstm_model(X_train, y_train, X_val, y_val)\n",
    "    \n",
    "    # Generate signals\n",
    "    rf_signals = generate_signals(ticker_data)\n",
    "    xgb_signals = generate_signals(ticker_data)\n",
    "    lstm_signals = generate_signals(ticker_data)\n",
    "\n",
    "    # Backtest\n",
    "    rf_backtest = backtest_strategy(ticker_data, rf_signals)\n",
    "    xgb_backtest = backtest_strategy(ticker_data, xgb_signals)\n",
    "    lstm_backtest = backtest_strategy(ticker_data, lstm_signals)\n",
    "    \n",
    "    all_backtests[ticker] = {\n",
    "        'RandomForest': rf_backtest,\n",
    "        'XGBoost': xgb_backtest,\n",
    "        'LSTM': lstm_backtest\n",
    "    }\n",
    "    \n",
    "    print(f\"{ticker}: RF Accuracy: {rf_accuracy}, XGB Accuracy: {xgb_accuracy}, LSTM Accuracy: {lstm_accuracy}\")\n"
   ]
  },
  {
   "cell_type": "markdown",
   "metadata": {},
   "source": []
  }
 ],
 "metadata": {
  "kernelspec": {
   "display_name": "base",
   "language": "python",
   "name": "python3"
  },
  "language_info": {
   "codemirror_mode": {
    "name": "ipython",
    "version": 3
   },
   "file_extension": ".py",
   "mimetype": "text/x-python",
   "name": "python",
   "nbconvert_exporter": "python",
   "pygments_lexer": "ipython3",
   "version": "3.11.9"
  }
 },
 "nbformat": 4,
 "nbformat_minor": 2
}
